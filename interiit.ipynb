{
  "nbformat": 4,
  "nbformat_minor": 0,
  "metadata": {
    "colab": {
      "provenance": []
    },
    "kernelspec": {
      "name": "python3",
      "display_name": "Python 3"
    },
    "language_info": {
      "name": "python"
    },
    "widgets": {
      "application/vnd.jupyter.widget-state+json": {
        "664e1ccaf029490a851cbaa5f60db652": {
          "model_module": "@jupyter-widgets/controls",
          "model_name": "HBoxModel",
          "model_module_version": "1.5.0",
          "state": {
            "_dom_classes": [],
            "_model_module": "@jupyter-widgets/controls",
            "_model_module_version": "1.5.0",
            "_model_name": "HBoxModel",
            "_view_count": null,
            "_view_module": "@jupyter-widgets/controls",
            "_view_module_version": "1.5.0",
            "_view_name": "HBoxView",
            "box_style": "",
            "children": [
              "IPY_MODEL_e73eb67125d849f1b4646f68d1351fe4",
              "IPY_MODEL_5d1d326ab5014863b1832424035f215a",
              "IPY_MODEL_7d211c76806541508aa96f8b532f899d"
            ],
            "layout": "IPY_MODEL_782dcc22358242bd8efbb926b7fbcad1"
          }
        },
        "e73eb67125d849f1b4646f68d1351fe4": {
          "model_module": "@jupyter-widgets/controls",
          "model_name": "HTMLModel",
          "model_module_version": "1.5.0",
          "state": {
            "_dom_classes": [],
            "_model_module": "@jupyter-widgets/controls",
            "_model_module_version": "1.5.0",
            "_model_name": "HTMLModel",
            "_view_count": null,
            "_view_module": "@jupyter-widgets/controls",
            "_view_module_version": "1.5.0",
            "_view_name": "HTMLView",
            "description": "",
            "description_tooltip": null,
            "layout": "IPY_MODEL_91872997d25248738a636f7af89ade3d",
            "placeholder": "​",
            "style": "IPY_MODEL_692f9a065a6b4a6ba7b0207c7bb42495",
            "value": "100%"
          }
        },
        "5d1d326ab5014863b1832424035f215a": {
          "model_module": "@jupyter-widgets/controls",
          "model_name": "FloatProgressModel",
          "model_module_version": "1.5.0",
          "state": {
            "_dom_classes": [],
            "_model_module": "@jupyter-widgets/controls",
            "_model_module_version": "1.5.0",
            "_model_name": "FloatProgressModel",
            "_view_count": null,
            "_view_module": "@jupyter-widgets/controls",
            "_view_module_version": "1.5.0",
            "_view_name": "ProgressView",
            "bar_style": "success",
            "description": "",
            "description_tooltip": null,
            "layout": "IPY_MODEL_594a91e0445e425aa736b1f9dcf18db0",
            "max": 574673361,
            "min": 0,
            "orientation": "horizontal",
            "style": "IPY_MODEL_391038bad2064f6dab02cd6b49c0d195",
            "value": 574673361
          }
        },
        "7d211c76806541508aa96f8b532f899d": {
          "model_module": "@jupyter-widgets/controls",
          "model_name": "HTMLModel",
          "model_module_version": "1.5.0",
          "state": {
            "_dom_classes": [],
            "_model_module": "@jupyter-widgets/controls",
            "_model_module_version": "1.5.0",
            "_model_name": "HTMLModel",
            "_view_count": null,
            "_view_module": "@jupyter-widgets/controls",
            "_view_module_version": "1.5.0",
            "_view_name": "HTMLView",
            "description": "",
            "description_tooltip": null,
            "layout": "IPY_MODEL_0048e9d63bf64feca00a37a077f44354",
            "placeholder": "​",
            "style": "IPY_MODEL_26da20aae2ba47dd94c55466252d646b",
            "value": " 548M/548M [00:05&lt;00:00, 102MB/s]"
          }
        },
        "782dcc22358242bd8efbb926b7fbcad1": {
          "model_module": "@jupyter-widgets/base",
          "model_name": "LayoutModel",
          "model_module_version": "1.2.0",
          "state": {
            "_model_module": "@jupyter-widgets/base",
            "_model_module_version": "1.2.0",
            "_model_name": "LayoutModel",
            "_view_count": null,
            "_view_module": "@jupyter-widgets/base",
            "_view_module_version": "1.2.0",
            "_view_name": "LayoutView",
            "align_content": null,
            "align_items": null,
            "align_self": null,
            "border": null,
            "bottom": null,
            "display": null,
            "flex": null,
            "flex_flow": null,
            "grid_area": null,
            "grid_auto_columns": null,
            "grid_auto_flow": null,
            "grid_auto_rows": null,
            "grid_column": null,
            "grid_gap": null,
            "grid_row": null,
            "grid_template_areas": null,
            "grid_template_columns": null,
            "grid_template_rows": null,
            "height": null,
            "justify_content": null,
            "justify_items": null,
            "left": null,
            "margin": null,
            "max_height": null,
            "max_width": null,
            "min_height": null,
            "min_width": null,
            "object_fit": null,
            "object_position": null,
            "order": null,
            "overflow": null,
            "overflow_x": null,
            "overflow_y": null,
            "padding": null,
            "right": null,
            "top": null,
            "visibility": null,
            "width": null
          }
        },
        "91872997d25248738a636f7af89ade3d": {
          "model_module": "@jupyter-widgets/base",
          "model_name": "LayoutModel",
          "model_module_version": "1.2.0",
          "state": {
            "_model_module": "@jupyter-widgets/base",
            "_model_module_version": "1.2.0",
            "_model_name": "LayoutModel",
            "_view_count": null,
            "_view_module": "@jupyter-widgets/base",
            "_view_module_version": "1.2.0",
            "_view_name": "LayoutView",
            "align_content": null,
            "align_items": null,
            "align_self": null,
            "border": null,
            "bottom": null,
            "display": null,
            "flex": null,
            "flex_flow": null,
            "grid_area": null,
            "grid_auto_columns": null,
            "grid_auto_flow": null,
            "grid_auto_rows": null,
            "grid_column": null,
            "grid_gap": null,
            "grid_row": null,
            "grid_template_areas": null,
            "grid_template_columns": null,
            "grid_template_rows": null,
            "height": null,
            "justify_content": null,
            "justify_items": null,
            "left": null,
            "margin": null,
            "max_height": null,
            "max_width": null,
            "min_height": null,
            "min_width": null,
            "object_fit": null,
            "object_position": null,
            "order": null,
            "overflow": null,
            "overflow_x": null,
            "overflow_y": null,
            "padding": null,
            "right": null,
            "top": null,
            "visibility": null,
            "width": null
          }
        },
        "692f9a065a6b4a6ba7b0207c7bb42495": {
          "model_module": "@jupyter-widgets/controls",
          "model_name": "DescriptionStyleModel",
          "model_module_version": "1.5.0",
          "state": {
            "_model_module": "@jupyter-widgets/controls",
            "_model_module_version": "1.5.0",
            "_model_name": "DescriptionStyleModel",
            "_view_count": null,
            "_view_module": "@jupyter-widgets/base",
            "_view_module_version": "1.2.0",
            "_view_name": "StyleView",
            "description_width": ""
          }
        },
        "594a91e0445e425aa736b1f9dcf18db0": {
          "model_module": "@jupyter-widgets/base",
          "model_name": "LayoutModel",
          "model_module_version": "1.2.0",
          "state": {
            "_model_module": "@jupyter-widgets/base",
            "_model_module_version": "1.2.0",
            "_model_name": "LayoutModel",
            "_view_count": null,
            "_view_module": "@jupyter-widgets/base",
            "_view_module_version": "1.2.0",
            "_view_name": "LayoutView",
            "align_content": null,
            "align_items": null,
            "align_self": null,
            "border": null,
            "bottom": null,
            "display": null,
            "flex": null,
            "flex_flow": null,
            "grid_area": null,
            "grid_auto_columns": null,
            "grid_auto_flow": null,
            "grid_auto_rows": null,
            "grid_column": null,
            "grid_gap": null,
            "grid_row": null,
            "grid_template_areas": null,
            "grid_template_columns": null,
            "grid_template_rows": null,
            "height": null,
            "justify_content": null,
            "justify_items": null,
            "left": null,
            "margin": null,
            "max_height": null,
            "max_width": null,
            "min_height": null,
            "min_width": null,
            "object_fit": null,
            "object_position": null,
            "order": null,
            "overflow": null,
            "overflow_x": null,
            "overflow_y": null,
            "padding": null,
            "right": null,
            "top": null,
            "visibility": null,
            "width": null
          }
        },
        "391038bad2064f6dab02cd6b49c0d195": {
          "model_module": "@jupyter-widgets/controls",
          "model_name": "ProgressStyleModel",
          "model_module_version": "1.5.0",
          "state": {
            "_model_module": "@jupyter-widgets/controls",
            "_model_module_version": "1.5.0",
            "_model_name": "ProgressStyleModel",
            "_view_count": null,
            "_view_module": "@jupyter-widgets/base",
            "_view_module_version": "1.2.0",
            "_view_name": "StyleView",
            "bar_color": null,
            "description_width": ""
          }
        },
        "0048e9d63bf64feca00a37a077f44354": {
          "model_module": "@jupyter-widgets/base",
          "model_name": "LayoutModel",
          "model_module_version": "1.2.0",
          "state": {
            "_model_module": "@jupyter-widgets/base",
            "_model_module_version": "1.2.0",
            "_model_name": "LayoutModel",
            "_view_count": null,
            "_view_module": "@jupyter-widgets/base",
            "_view_module_version": "1.2.0",
            "_view_name": "LayoutView",
            "align_content": null,
            "align_items": null,
            "align_self": null,
            "border": null,
            "bottom": null,
            "display": null,
            "flex": null,
            "flex_flow": null,
            "grid_area": null,
            "grid_auto_columns": null,
            "grid_auto_flow": null,
            "grid_auto_rows": null,
            "grid_column": null,
            "grid_gap": null,
            "grid_row": null,
            "grid_template_areas": null,
            "grid_template_columns": null,
            "grid_template_rows": null,
            "height": null,
            "justify_content": null,
            "justify_items": null,
            "left": null,
            "margin": null,
            "max_height": null,
            "max_width": null,
            "min_height": null,
            "min_width": null,
            "object_fit": null,
            "object_position": null,
            "order": null,
            "overflow": null,
            "overflow_x": null,
            "overflow_y": null,
            "padding": null,
            "right": null,
            "top": null,
            "visibility": null,
            "width": null
          }
        },
        "26da20aae2ba47dd94c55466252d646b": {
          "model_module": "@jupyter-widgets/controls",
          "model_name": "DescriptionStyleModel",
          "model_module_version": "1.5.0",
          "state": {
            "_model_module": "@jupyter-widgets/controls",
            "_model_module_version": "1.5.0",
            "_model_name": "DescriptionStyleModel",
            "_view_count": null,
            "_view_module": "@jupyter-widgets/base",
            "_view_module_version": "1.2.0",
            "_view_name": "StyleView",
            "description_width": ""
          }
        }
      }
    }
  },
  "cells": [
    {
      "cell_type": "markdown",
      "source": [
        "**GAN network for upscalling moon images**<br>\n",
        "The basic idea behind using GANs for image upscaling is to train a generator network to create high-resolution images from low-resolution images, and a discriminator network to distinguish between the generated high-resolution images and real high-resolution images. The generator network is trained to produce images that are similar to real high-resolution images, and the discriminator network is trained to correctly identify the generated images."
      ],
      "metadata": {
        "id": "Jn_bG1xjr3vk"
      }
    },
    {
      "cell_type": "code",
      "execution_count": null,
      "metadata": {
        "id": "ExHRZqzfF2nc"
      },
      "outputs": [],
      "source": [
        "import os\n",
        "import torch\n",
        "import torch.nn as n\n",
        "import torch.nn.functional as f\n",
        "import numpy as np\n",
        "import os\n",
        "from torchsummary import summary\n",
        "import torch.optim as optim\n",
        "from tqdm import tqdm\n",
        "from torchvision import models\n",
        "import cv2\n",
        "from matplotlib import pyplot as plt\n",
        "from PIL import Image"
      ]
    },
    {
      "cell_type": "markdown",
      "source": [
        "**the network is based on SRGAN which is used for improving resolution of images**"
      ],
      "metadata": {
        "id": "MJx4B_Ja1TTO"
      }
    },
    {
      "cell_type": "markdown",
      "source": [
        "**Generator**<br>\n"
      ],
      "metadata": {
        "id": "aMLjStzYtDU-"
      }
    },
    {
      "cell_type": "code",
      "source": [
        "class Generator(n.Module):\n",
        "    def __init__(self):\n",
        "        super().__init__()\n",
        "        self.conv1 = n.Conv2d(3,64,9,padding=4,bias=False)\n",
        "        self.conv2 = n.Conv2d(64,64,3,padding=1,bias=False)\n",
        "        self.conv3_1 = n.Conv2d(64,256,3,padding=1,bias=False)\n",
        "        self.conv3_2 = n.Conv2d(64,256,3,padding=1,bias=False)\n",
        "        self.conv4 = n.Conv2d(64,3,9,padding=4,bias=False)\n",
        "        self.bn = n.BatchNorm2d(64)\n",
        "        self.ps = n.PixelShuffle(2)\n",
        "        self.prelu = n.PReLU()\n",
        "\n",
        "    def forward(self,x):\n",
        "        block1 = self.prelu(self.conv1(x))\n",
        "        block2 = torch.add(self.bn(self.conv2(self.prelu(self.bn(self.conv2(block1))))),block1)\n",
        "        block3 = torch.add(self.bn(self.conv2(self.prelu(self.bn(self.conv2(block2))))),block2)\n",
        "        block4 = torch.add(self.bn(self.conv2(self.prelu(self.bn(self.conv2(block3))))),block3)\n",
        "        block5 = torch.add(self.bn(self.conv2(self.prelu(self.bn(self.conv2(block4))))),block4)\n",
        "        block6 = torch.add(self.bn(self.conv2(self.prelu(self.bn(self.conv2(block5))))),block5)\n",
        "        block7 = torch.add(self.bn(self.conv2(block6)),block1)\n",
        "        block8 = self.prelu(self.ps(self.conv3_1(block7)))\n",
        "        block9 = self.prelu(self.ps(self.conv3_2(block8)))\n",
        "        block10 = self.conv4(block9)\n",
        "        return block10"
      ],
      "metadata": {
        "id": "ziEYP0tXtC59"
      },
      "execution_count": null,
      "outputs": []
    },
    {
      "cell_type": "code",
      "source": [
        "gen = Generator()\n",
        "summary(gen,(3,256,256))"
      ],
      "metadata": {
        "colab": {
          "base_uri": "https://localhost:8080/"
        },
        "id": "GG9bbemd29J2",
        "outputId": "b4673d30-ecec-4ae7-89c7-968a26c35b34"
      },
      "execution_count": null,
      "outputs": [
        {
          "output_type": "stream",
          "name": "stdout",
          "text": [
            "----------------------------------------------------------------\n",
            "        Layer (type)               Output Shape         Param #\n",
            "================================================================\n",
            "            Conv2d-1         [-1, 64, 256, 256]          15,552\n",
            "             PReLU-2         [-1, 64, 256, 256]               1\n",
            "            Conv2d-3         [-1, 64, 256, 256]          36,864\n",
            "       BatchNorm2d-4         [-1, 64, 256, 256]             128\n",
            "             PReLU-5         [-1, 64, 256, 256]               1\n",
            "            Conv2d-6         [-1, 64, 256, 256]          36,864\n",
            "       BatchNorm2d-7         [-1, 64, 256, 256]             128\n",
            "            Conv2d-8         [-1, 64, 256, 256]          36,864\n",
            "       BatchNorm2d-9         [-1, 64, 256, 256]             128\n",
            "            PReLU-10         [-1, 64, 256, 256]               1\n",
            "           Conv2d-11         [-1, 64, 256, 256]          36,864\n",
            "      BatchNorm2d-12         [-1, 64, 256, 256]             128\n",
            "           Conv2d-13         [-1, 64, 256, 256]          36,864\n",
            "      BatchNorm2d-14         [-1, 64, 256, 256]             128\n",
            "            PReLU-15         [-1, 64, 256, 256]               1\n",
            "           Conv2d-16         [-1, 64, 256, 256]          36,864\n",
            "      BatchNorm2d-17         [-1, 64, 256, 256]             128\n",
            "           Conv2d-18         [-1, 64, 256, 256]          36,864\n",
            "      BatchNorm2d-19         [-1, 64, 256, 256]             128\n",
            "            PReLU-20         [-1, 64, 256, 256]               1\n",
            "           Conv2d-21         [-1, 64, 256, 256]          36,864\n",
            "      BatchNorm2d-22         [-1, 64, 256, 256]             128\n",
            "           Conv2d-23         [-1, 64, 256, 256]          36,864\n",
            "      BatchNorm2d-24         [-1, 64, 256, 256]             128\n",
            "            PReLU-25         [-1, 64, 256, 256]               1\n",
            "           Conv2d-26         [-1, 64, 256, 256]          36,864\n",
            "      BatchNorm2d-27         [-1, 64, 256, 256]             128\n",
            "           Conv2d-28         [-1, 64, 256, 256]          36,864\n",
            "      BatchNorm2d-29         [-1, 64, 256, 256]             128\n",
            "           Conv2d-30        [-1, 256, 256, 256]         147,456\n",
            "     PixelShuffle-31         [-1, 64, 512, 512]               0\n",
            "            PReLU-32         [-1, 64, 512, 512]               1\n",
            "           Conv2d-33        [-1, 256, 512, 512]         147,456\n",
            "     PixelShuffle-34       [-1, 64, 1024, 1024]               0\n",
            "            PReLU-35       [-1, 64, 1024, 1024]               1\n",
            "           Conv2d-36        [-1, 3, 1024, 1024]          15,552\n",
            "================================================================\n",
            "Total params: 732,936\n",
            "Trainable params: 732,936\n",
            "Non-trainable params: 0\n",
            "----------------------------------------------------------------\n",
            "Input size (MB): 0.75\n",
            "Forward/backward pass size (MB): 2872.00\n",
            "Params size (MB): 2.80\n",
            "Estimated Total Size (MB): 2875.55\n",
            "----------------------------------------------------------------\n"
          ]
        }
      ]
    },
    {
      "cell_type": "markdown",
      "source": [
        "**discriminator**"
      ],
      "metadata": {
        "id": "dLY5-UVM1wwJ"
      }
    },
    {
      "cell_type": "code",
      "source": [
        "class Discriminator(n.Module):\n",
        "    def __init__(self):\n",
        "        super().__init__()\n",
        "        self.conv1 = n.Conv2d(3,64,3,padding=1,bias=False)\n",
        "        self.conv2 = n.Conv2d(64,64,3,stride=2,padding=1,bias=False)\n",
        "        self.bn2 = n.BatchNorm2d(64)\n",
        "        self.conv3 = n.Conv2d(64,128,3,padding=1,bias=False)\n",
        "        self.bn3 = n.BatchNorm2d(128)\n",
        "        self.conv4 = n.Conv2d(128,128,3,stride=2,padding=1,bias=False)\n",
        "        self.bn4 = n.BatchNorm2d(128)\n",
        "        self.conv5 = n.Conv2d(128,256,3,padding=1,bias=False)\n",
        "        self.bn5 = n.BatchNorm2d(256)\n",
        "        self.conv6 = n.Conv2d(256,256,3,stride=2,padding=1,bias=False)\n",
        "        self.bn6 = n.BatchNorm2d(256)\n",
        "        self.conv7 = n.Conv2d(256,512,3,padding=1,bias=False)\n",
        "        self.bn7 = n.BatchNorm2d(512)\n",
        "        self.conv8 = n.Conv2d(512,512,3,stride=2,padding=1,bias=False)\n",
        "        self.bn8 = n.BatchNorm2d(512)\n",
        "        self.fc1 = n.Linear(512*16*16,1024)\n",
        "        self.fc2 = n.Linear(1024,1)\n",
        "        self.drop = n.Dropout2d(0.3)\n",
        "\n",
        "    def forward(self,x):\n",
        "        block1 = f.leaky_relu(self.conv1(x))\n",
        "        block2 = f.leaky_relu(self.bn2(self.conv2(block1)))\n",
        "        block3 = f.leaky_relu(self.bn3(self.conv3(block2)))\n",
        "        block4 = f.leaky_relu(self.bn4(self.conv4(block3)))\n",
        "        block5 = f.leaky_relu(self.bn5(self.conv5(block4)))\n",
        "        block6 = f.leaky_relu(self.bn6(self.conv6(block5)))\n",
        "        block7 = f.leaky_relu(self.bn7(self.conv7(block6)))\n",
        "        block8 = f.leaky_relu(self.bn8(self.conv8(block7)))\n",
        "        block8 = block8.view(-1,block8.size(1)*block8.size(2)*block8.size(3))\n",
        "        block9 = f.leaky_relu(self.fc1(block8),)\n",
        "        block10 = torch.sigmoid(self.drop(self.fc2(block9)))\n",
        "        return block9,block10"
      ],
      "metadata": {
        "id": "JW46fgWn1v9m"
      },
      "execution_count": null,
      "outputs": []
    },
    {
      "cell_type": "code",
      "source": [
        "disc = Discriminator()\n",
        "summary(disc,(3,256,256))"
      ],
      "metadata": {
        "id": "3rK8i35O3OyB",
        "colab": {
          "base_uri": "https://localhost:8080/"
        },
        "outputId": "adff8f29-e27c-4709-dd99-a023bac5293c"
      },
      "execution_count": null,
      "outputs": [
        {
          "output_type": "stream",
          "name": "stdout",
          "text": [
            "----------------------------------------------------------------\n",
            "        Layer (type)               Output Shape         Param #\n",
            "================================================================\n",
            "            Conv2d-1         [-1, 64, 256, 256]           1,728\n",
            "            Conv2d-2         [-1, 64, 128, 128]          36,864\n",
            "       BatchNorm2d-3         [-1, 64, 128, 128]             128\n",
            "            Conv2d-4        [-1, 128, 128, 128]          73,728\n",
            "       BatchNorm2d-5        [-1, 128, 128, 128]             256\n",
            "            Conv2d-6          [-1, 128, 64, 64]         147,456\n",
            "       BatchNorm2d-7          [-1, 128, 64, 64]             256\n",
            "            Conv2d-8          [-1, 256, 64, 64]         294,912\n",
            "       BatchNorm2d-9          [-1, 256, 64, 64]             512\n",
            "           Conv2d-10          [-1, 256, 32, 32]         589,824\n",
            "      BatchNorm2d-11          [-1, 256, 32, 32]             512\n",
            "           Conv2d-12          [-1, 512, 32, 32]       1,179,648\n",
            "      BatchNorm2d-13          [-1, 512, 32, 32]           1,024\n",
            "           Conv2d-14          [-1, 512, 16, 16]       2,359,296\n",
            "      BatchNorm2d-15          [-1, 512, 16, 16]           1,024\n",
            "           Linear-16                 [-1, 1024]     134,218,752\n",
            "           Linear-17                    [-1, 1]           1,025\n",
            "        Dropout2d-18                    [-1, 1]               0\n",
            "================================================================\n",
            "Total params: 138,906,945\n",
            "Trainable params: 138,906,945\n",
            "Non-trainable params: 0\n",
            "----------------------------------------------------------------\n",
            "Input size (MB): 0.75\n",
            "Forward/backward pass size (MB): 118.01\n",
            "Params size (MB): 529.89\n",
            "Estimated Total Size (MB): 648.65\n",
            "----------------------------------------------------------------\n"
          ]
        },
        {
          "output_type": "stream",
          "name": "stderr",
          "text": [
            "/usr/local/lib/python3.8/dist-packages/torch/nn/functional.py:1331: UserWarning: dropout2d: Received a 2-D input to dropout2d, which is deprecated and will result in an error in a future release. To retain the behavior and silence this warning, please use dropout instead. Note that dropout2d exists to provide channel-wise dropout on inputs with 2 spatial dimensions, a channel dimension, and an optional batch dimension (i.e. 3D or 4D inputs).\n",
            "  warnings.warn(warn_msg)\n"
          ]
        }
      ]
    },
    {
      "cell_type": "markdown",
      "source": [
        "**Downloading Vgg19**"
      ],
      "metadata": {
        "id": "Un0ZStCd1-y5"
      }
    },
    {
      "cell_type": "code",
      "source": [
        "vgg = models.vgg19(pretrained=True)"
      ],
      "metadata": {
        "id": "EehchijQ1-dd",
        "colab": {
          "base_uri": "https://localhost:8080/",
          "height": 156,
          "referenced_widgets": [
            "664e1ccaf029490a851cbaa5f60db652",
            "e73eb67125d849f1b4646f68d1351fe4",
            "5d1d326ab5014863b1832424035f215a",
            "7d211c76806541508aa96f8b532f899d",
            "782dcc22358242bd8efbb926b7fbcad1",
            "91872997d25248738a636f7af89ade3d",
            "692f9a065a6b4a6ba7b0207c7bb42495",
            "594a91e0445e425aa736b1f9dcf18db0",
            "391038bad2064f6dab02cd6b49c0d195",
            "0048e9d63bf64feca00a37a077f44354",
            "26da20aae2ba47dd94c55466252d646b"
          ]
        },
        "outputId": "be889fdd-8bd5-41fa-a3e8-f6860c054909"
      },
      "execution_count": null,
      "outputs": [
        {
          "output_type": "stream",
          "name": "stderr",
          "text": [
            "/usr/local/lib/python3.8/dist-packages/torchvision/models/_utils.py:208: UserWarning: The parameter 'pretrained' is deprecated since 0.13 and may be removed in the future, please use 'weights' instead.\n",
            "  warnings.warn(\n",
            "/usr/local/lib/python3.8/dist-packages/torchvision/models/_utils.py:223: UserWarning: Arguments other than a weight enum or `None` for 'weights' are deprecated since 0.13 and may be removed in the future. The current behavior is equivalent to passing `weights=VGG19_Weights.IMAGENET1K_V1`. You can also use `weights=VGG19_Weights.DEFAULT` to get the most up-to-date weights.\n",
            "  warnings.warn(msg)\n",
            "Downloading: \"https://download.pytorch.org/models/vgg19-dcbb9e9d.pth\" to /root/.cache/torch/hub/checkpoints/vgg19-dcbb9e9d.pth\n"
          ]
        },
        {
          "output_type": "display_data",
          "data": {
            "text/plain": [
              "  0%|          | 0.00/548M [00:00<?, ?B/s]"
            ],
            "application/vnd.jupyter.widget-view+json": {
              "version_major": 2,
              "version_minor": 0,
              "model_id": "664e1ccaf029490a851cbaa5f60db652"
            }
          },
          "metadata": {}
        }
      ]
    },
    {
      "cell_type": "markdown",
      "source": [
        "**Loss functions**"
      ],
      "metadata": {
        "id": "Za2ojDO42kge"
      }
    },
    {
      "cell_type": "code",
      "source": [
        "gen_loss = n.BCELoss()\n",
        "vgg_loss = n.MSELoss()\n",
        "mse_loss = n.MSELoss()\n",
        "disc_loss = n.BCELoss()"
      ],
      "metadata": {
        "id": "w6KPlO_72jkl"
      },
      "execution_count": null,
      "outputs": []
    },
    {
      "cell_type": "markdown",
      "source": [
        "**Optimizers**"
      ],
      "metadata": {
        "id": "0ab0-uI22q5y"
      }
    },
    {
      "cell_type": "code",
      "source": [
        "gen_optimizer = optim.Adam(gen.parameters(),lr=0.0001)\n",
        "disc_optimizer = optim.Adam(disc.parameters(),lr=0.0001)"
      ],
      "metadata": {
        "id": "0kXopp_l2qcq"
      },
      "execution_count": null,
      "outputs": []
    },
    {
      "cell_type": "markdown",
      "source": [
        "**Data preprocessing**"
      ],
      "metadata": {
        "id": "XXYpQ45o-vsK"
      }
    },
    {
      "cell_type": "code",
      "source": [],
      "metadata": {
        "id": "qhYrTOZk-vNJ"
      },
      "execution_count": null,
      "outputs": []
    },
    {
      "cell_type": "code",
      "source": [],
      "metadata": {
        "id": "sE1967Nw_AhF"
      },
      "execution_count": null,
      "outputs": []
    }
  ]
}